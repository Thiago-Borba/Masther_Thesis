{
 "cells": [
  {
   "cell_type": "code",
   "execution_count": 1,
   "metadata": {},
   "outputs": [],
   "source": [
    "import numpy as np\n",
    "import pandas as pd \n",
    "from transformers import BertTokenizer, Trainer, BertForSequenceClassification, TrainingArguments\n",
    "from datasets import Dataset\n",
    "import torch\n",
    "from sklearn.model_selection import train_test_split\n",
    "from sklearn.metrics import accuracy_score\n",
    "import transformers"
   ]
  },
  {
   "cell_type": "code",
   "execution_count": 2,
   "metadata": {},
   "outputs": [
    {
     "name": "stdout",
     "output_type": "stream",
     "text": [
      "11.8\n"
     ]
    },
    {
     "data": {
      "text/plain": [
       "True"
      ]
     },
     "execution_count": 2,
     "metadata": {},
     "output_type": "execute_result"
    }
   ],
   "source": [
    "torch.__version__, transformers.__version__\n",
    "print(torch.cuda_version)\n",
    "torch.cuda.is_available()"
   ]
  },
  {
   "cell_type": "code",
   "execution_count": 100,
   "metadata": {},
   "outputs": [
    {
     "name": "stderr",
     "output_type": "stream",
     "text": [
      "<ipython-input-100-fb3aaae6f4f5>:4: FutureWarning: The default value of regex will change from True to False in a future version.\n",
      "  df_test[\"body\"] = df_test[\"body\"].str.replace(\"$AAPL\", \"Apple\").str.replace(\"AAPL\", \"Apple\").str.replace(\"$appl\", \"Apple\").str.replace(\"appl\", \"Apple\")\n",
      "<ipython-input-100-fb3aaae6f4f5>:7: FutureWarning: The default value of regex will change from True to False in a future version.\n",
      "  df_test[\"body\"] = df_test[\"body\"].str.replace(\"$AMZN\", \"Amazon\").str.replace(\"AMZN\", \"Amazon\").str.replace(\"$amzn\", \"Amazon\").str.replace(\"amzn\", \"Amazon\")\n",
      "<ipython-input-100-fb3aaae6f4f5>:10: FutureWarning: The default value of regex will change from True to False in a future version.\n",
      "  df_test[\"body\"] = df_test[\"body\"].str.replace(\"$GOOG\", \"Google\").str.replace(\"GOOG\", \"Google\").str.replace(\"$googl\", \"Google\").str.replace(\"goog\", \"Google\")\n",
      "<ipython-input-100-fb3aaae6f4f5>:13: FutureWarning: The default value of regex will change from True to False in a future version.\n",
      "  df_test[\"body\"] = df_test[\"body\"].str.replace(\"$FB\", \"Facebook\").str.replace(\"FB\", \"Facebook\").str.replace(\"$fb\", \"Facebook\").str.replace(\"fb\", \"Facebook\")\n",
      "<ipython-input-100-fb3aaae6f4f5>:16: FutureWarning: The default value of regex will change from True to False in a future version.\n",
      "  df_test[\"body\"] = df_test[\"body\"].str.replace(\"$MSFT\", \"Microsoft\").str.replace(\"MSFT\", \"Microsoft\").str.replace(\"$msft\", \"Microsoft\").str.replace(\"msft\", \"Microsoft\")\n",
      "<ipython-input-100-fb3aaae6f4f5>:19: FutureWarning: The default value of regex will change from True to False in a future version.\n",
      "  df_test[\"body\"] = df_test[\"body\"].str.replace(\"$TSLA\", \"Tesla\").str.replace(\"TSLA\", \"Tesla\").str.replace(\"$tsla\", \"Tesla\").str.replace(\"tsla\", \"Tesla\")\n"
     ]
    }
   ],
   "source": [
    "df_test = pd.read_csv(\"C:\\\\Users\\\\User\\\\Documents\\\\GitHub\\\\Masther_Thesis\\\\tweets\\\\stock_market_tweets_train.csv\")\n",
    "\n",
    "\n",
    "df_test[\"body\"] = df_test[\"body\"].str.replace(\"$AAPL\", \"Apple\").str.replace(\"AAPL\", \"Apple\").str.replace(\"$appl\", \"Apple\").str.replace(\"appl\", \"Apple\")\n",
    "df_test['body'] = df_test['body'].apply(lambda x: x.replace(\"$Apple\", \"Apple\"))\n",
    "\n",
    "df_test[\"body\"] = df_test[\"body\"].str.replace(\"$AMZN\", \"Amazon\").str.replace(\"AMZN\", \"Amazon\").str.replace(\"$amzn\", \"Amazon\").str.replace(\"amzn\", \"Amazon\")\n",
    "df_test['body'] = df_test['body'].apply(lambda x: x.replace(\"$Amazon\", \"Amazon\"))\n",
    "\n",
    "df_test[\"body\"] = df_test[\"body\"].str.replace(\"$GOOG\", \"Google\").str.replace(\"GOOG\", \"Google\").str.replace(\"$googl\", \"Google\").str.replace(\"goog\", \"Google\")\n",
    "df_test['body'] = df_test['body'].apply(lambda x: x.replace(\"$Google\", \"Google\"))\n",
    "\n",
    "df_test[\"body\"] = df_test[\"body\"].str.replace(\"$FB\", \"Facebook\").str.replace(\"FB\", \"Facebook\").str.replace(\"$fb\", \"Facebook\").str.replace(\"fb\", \"Facebook\")\n",
    "df_test['body'] = df_test['body'].apply(lambda x: x.replace(\"$Facebook\", \"Facebook\"))\n",
    "\n",
    "df_test[\"body\"] = df_test[\"body\"].str.replace(\"$MSFT\", \"Microsoft\").str.replace(\"MSFT\", \"Microsoft\").str.replace(\"$msft\", \"Microsoft\").str.replace(\"msft\", \"Microsoft\")\n",
    "df_test['body'] = df_test['body'].apply(lambda x: x.replace(\"$Microsoft\", \"Microsoft\"))\n",
    "\n",
    "df_test[\"body\"] = df_test[\"body\"].str.replace(\"$TSLA\", \"Tesla\").str.replace(\"TSLA\", \"Tesla\").str.replace(\"$tsla\", \"Tesla\").str.replace(\"tsla\", \"Tesla\")\n",
    "df_test['body'] = df_test['body'].apply(lambda x: x.replace(\"$Tesla\", \"Tesla\"))\n",
    "\n",
    "df_test[\"company\"] = df_test[\"ticker_symbol\"].str.replace(\"AAPL\", \"Apple\").str.replace(\"AMZN\", \"Amazon\").str.replace(\"GOOG\", \"Google\").str.replace(\"FB\", \"Facebook\").str.replace(\"MSFT\", \"Microsoft\").str.replace(\"TSLA\", \"Tesla\")\n",
    "\n",
    "df_test[\"text\"] = df_test.apply(lambda row: f\"Talking about {row['company']}. {row['body']}\", axis=1)\n",
    "\n",
    "# df_test[\"text\"] = df_test[\"body\"]\n",
    "\n",
    "df = df_test[[\"text\", \"Sentiment\"]].dropna()\n",
    "\n",
    "rename_dict = {\"text\": \"sentence\", \"Sentiment\": \"label\"}\n",
    "df = df.rename(columns=rename_dict)\n"
   ]
  },
  {
   "cell_type": "code",
   "execution_count": 102,
   "metadata": {},
   "outputs": [
    {
     "data": {
      "text/plain": [
       "0       Talking about Apple. Insanity of today weirdo ...\n",
       "1       Talking about Apple. My biggest winner in 2014...\n",
       "2       Talking about Apple. Had a down day of -.66%. ...\n",
       "3       Talking about Apple. YR %,  /-, Tesla  47.85%,...\n",
       "4       Talking about Google. Prediction: $TWTR $GRPN ...\n",
       "                              ...                        \n",
       "9995    Talking about Google. @zendecisions @Eternity1...\n",
       "9996    Talking about Apple. Apple 109 calls looking l...\n",
       "9997    Talking about Apple. My Weekend Review VIDEO: ...\n",
       "9998    Talking about Apple. @basche42 agreed. From EC...\n",
       "9999    Talking about Apple. \"@Charles_Darwin: $GILD F...\n",
       "Name: sentence, Length: 9776, dtype: object"
      ]
     },
     "execution_count": 102,
     "metadata": {},
     "output_type": "execute_result"
    }
   ],
   "source": [
    "df['sentence']\n"
   ]
  },
  {
   "cell_type": "code",
   "execution_count": 103,
   "metadata": {},
   "outputs": [],
   "source": [
    "df['label'] = df['label'].str.replace(' ', '')\n",
    "\n",
    "df = df.dropna(subset=['label'])\n",
    "\n",
    "# Split 'label' column into new columns\n",
    "df['label'] = df['label'].str[2]\n",
    "\n",
    "# Convert the new columns to numeric values\n",
    "# df['number1'] = pd.to_numeric(df['number1'])\n",
    "df['label'] = pd.to_numeric(df['label'])\n",
    "df = df.dropna()\n",
    "\n",
    "df['label'] = df['label'].astype(int)\n",
    "\n",
    "\n"
   ]
  },
  {
   "cell_type": "code",
   "execution_count": 104,
   "metadata": {},
   "outputs": [
    {
     "name": "stdout",
     "output_type": "stream",
     "text": [
      "2    2318\n",
      "0    2318\n",
      "1    2318\n",
      "Name: label, dtype: int64\n"
     ]
    }
   ],
   "source": [
    "# Take the smaller sample size\n",
    "sample_size = df['label'].value_counts().min()\n",
    "\n",
    "# Use resample to balance the sample\n",
    "df = pd.concat([\n",
    "    df[df['label'] == value].sample(sample_size, random_state=42)\n",
    "    for value in df['label'].unique()\n",
    "])\n",
    "\n",
    "value_counts = df['label'].value_counts()\n",
    "\n",
    "print(value_counts)"
   ]
  },
  {
   "cell_type": "code",
   "execution_count": 105,
   "metadata": {},
   "outputs": [
    {
     "name": "stdout",
     "output_type": "stream",
     "text": [
      "(4284, 2) (1530, 2) (1140, 2)\n"
     ]
    }
   ],
   "source": [
    "df_train, df_test, = train_test_split(df, stratify=df['label'], test_size=0.22, random_state=42)\n",
    "df_train, df_val = train_test_split(df_train, stratify=df_train['label'],test_size=0.21, random_state=42)\n",
    "print(df_train.shape, df_test.shape, df_val.shape)"
   ]
  },
  {
   "cell_type": "code",
   "execution_count": 106,
   "metadata": {},
   "outputs": [
    {
     "name": "stderr",
     "output_type": "stream",
     "text": [
      "Some weights of the model checkpoint at yiyanghkust/finbert-pretrain were not used when initializing BertForSequenceClassification: ['cls.seq_relationship.bias', 'cls.predictions.transform.LayerNorm.weight', 'cls.predictions.transform.LayerNorm.bias', 'cls.predictions.transform.dense.weight', 'cls.predictions.bias', 'cls.seq_relationship.weight', 'cls.predictions.transform.dense.bias', 'cls.predictions.decoder.weight']\n",
      "- This IS expected if you are initializing BertForSequenceClassification from the checkpoint of a model trained on another task or with another architecture (e.g. initializing a BertForSequenceClassification model from a BertForPreTraining model).\n",
      "- This IS NOT expected if you are initializing BertForSequenceClassification from the checkpoint of a model that you expect to be exactly identical (initializing a BertForSequenceClassification model from a BertForSequenceClassification model).\n",
      "Some weights of BertForSequenceClassification were not initialized from the model checkpoint at yiyanghkust/finbert-pretrain and are newly initialized: ['classifier.bias', 'classifier.weight']\n",
      "You should probably TRAIN this model on a down-stream task to be able to use it for predictions and inference.\n"
     ]
    }
   ],
   "source": [
    "model = BertForSequenceClassification.from_pretrained('yiyanghkust/finbert-pretrain',num_labels=3)\n",
    "tokenizer = BertTokenizer.from_pretrained('yiyanghkust/finbert-pretrain')"
   ]
  },
  {
   "cell_type": "code",
   "execution_count": null,
   "metadata": {},
   "outputs": [],
   "source": [
    "dataset_train = Dataset.from_pandas(df_train)\n",
    "dataset_val = Dataset.from_pandas(df_val)\n",
    "dataset_test = Dataset.from_pandas(df_test)\n",
    "\n",
    "dataset_train = dataset_train.map(lambda e: tokenizer(e['sentence'], truncation=True, padding='max_length', max_length=512), batched=True)\n",
    "dataset_val = dataset_val.map(lambda e: tokenizer(e['sentence'], truncation=True, padding='max_length', max_length=512), batched=True)\n",
    "dataset_test = dataset_test.map(lambda e: tokenizer(e['sentence'], truncation=True, padding='max_length' , max_length=512), batched=True)\n",
    "\n",
    "dataset_train.set_format(type='torch', columns=['input_ids', 'token_type_ids', 'attention_mask', 'label'])\n",
    "dataset_val.set_format(type='torch', columns=['input_ids', 'token_type_ids', 'attention_mask', 'label'])\n",
    "dataset_test.set_format(type='torch', columns=['input_ids', 'token_type_ids', 'attention_mask', 'label'])"
   ]
  },
  {
   "cell_type": "code",
   "execution_count": null,
   "metadata": {},
   "outputs": [],
   "source": [
    "def compute_metrics(eval_pred):\n",
    "    predictions, labels = eval_pred\n",
    "    predictions = np.argmax(predictions, axis=1)\n",
    "    return {'accuracy' : accuracy_score(predictions, labels)}\n",
    "\n",
    "args = TrainingArguments(\n",
    "        output_dir = 'temp/',\n",
    "        evaluation_strategy = 'epoch',\n",
    "        save_strategy = 'epoch',\n",
    "        learning_rate=2e-5,\n",
    "        per_device_train_batch_size=5,\n",
    "        per_device_eval_batch_size=5,\n",
    "        num_train_epochs=50,\n",
    "        weight_decay=0.01,\n",
    "        load_best_model_at_end=True,\n",
    "        metric_for_best_model='accuracy',\n",
    ")\n",
    "\n",
    "trainer = Trainer(\n",
    "        model=model,                         # the instantiated 🤗 Transformers model to be trained\n",
    "        args=args,                  # training arguments, defined above\n",
    "        train_dataset=dataset_train,         # training dataset\n",
    "        eval_dataset=dataset_val,            # evaluation dataset\n",
    "        compute_metrics=compute_metrics\n",
    ")\n",
    "\n",
    "trainer.train()   \n"
   ]
  },
  {
   "cell_type": "code",
   "execution_count": null,
   "metadata": {},
   "outputs": [],
   "source": [
    "model.eval()\n",
    "trainer.predict(dataset_val).metrics"
   ]
  },
  {
   "cell_type": "code",
   "execution_count": 27,
   "metadata": {},
   "outputs": [
    {
     "data": {
      "application/vnd.jupyter.widget-view+json": {
       "model_id": "beffce73b75748509ca95a262956d3ea",
       "version_major": 2,
       "version_minor": 0
      },
      "text/plain": [
       "  0%|          | 0/228 [00:00<?, ?it/s]"
      ]
     },
     "metadata": {},
     "output_type": "display_data"
    }
   ],
   "source": [
    "set = trainer.predict(dataset_val)"
   ]
  },
  {
   "cell_type": "code",
   "execution_count": null,
   "metadata": {},
   "outputs": [],
   "source": [
    "dataset_val"
   ]
  },
  {
   "cell_type": "code",
   "execution_count": null,
   "metadata": {},
   "outputs": [],
   "source": [
    "# Convert arrays to columns using pd.Series\n",
    "expanded_columns = set['prediction'].apply(pd.Series)\n",
    "\n",
    "# Merge the expanded columns into the dataset\n",
    "dataset = dataset.add_columns(expanded_columns)\n",
    "\n",
    "# Remove the original 'prediction' column\n",
    "dataset = dataset.remove_columns('prediction')"
   ]
  },
  {
   "cell_type": "code",
   "execution_count": 35,
   "metadata": {},
   "outputs": [],
   "source": [
    "test = dataset_val['sentence'][0]"
   ]
  },
  {
   "cell_type": "code",
   "execution_count": 47,
   "metadata": {},
   "outputs": [
    {
     "data": {
      "text/plain": [
       "'Talking about Tesla. loss on Tesla puts as well'"
      ]
     },
     "execution_count": 47,
     "metadata": {},
     "output_type": "execute_result"
    }
   ],
   "source": [
    "test.replace(\"$Tesla\", \"Tesla\")"
   ]
  },
  {
   "cell_type": "code",
   "execution_count": 49,
   "metadata": {},
   "outputs": [
    {
     "data": {
      "text/plain": [
       "array([2, 1, 1, ..., 2, 1, 0], dtype=int64)"
      ]
     },
     "execution_count": 49,
     "metadata": {},
     "output_type": "execute_result"
    }
   ],
   "source": [
    "line = np.argmax(set.predictions, axis=1)\n",
    "\n",
    "line"
   ]
  },
  {
   "cell_type": "code",
   "execution_count": 53,
   "metadata": {},
   "outputs": [],
   "source": [
    "dataset_val_test = dataset_val.add_column('predictions', np.argmax(set.predictions, axis=1))"
   ]
  },
  {
   "cell_type": "code",
   "execution_count": 57,
   "metadata": {},
   "outputs": [],
   "source": [
    "df_ev = dataset_val_test.to_pandas()"
   ]
  },
  {
   "cell_type": "code",
   "execution_count": 61,
   "metadata": {},
   "outputs": [],
   "source": [
    "df_ev = df_ev[['sentence', 'label', 'predictions']]"
   ]
  },
  {
   "cell_type": "code",
   "execution_count": null,
   "metadata": {},
   "outputs": [],
   "source": [
    "df_ev['correct'] = df_ev['label'] == df_ev['predictions']"
   ]
  },
  {
   "cell_type": "code",
   "execution_count": 65,
   "metadata": {},
   "outputs": [
    {
     "data": {
      "text/html": [
       "<div>\n",
       "<style scoped>\n",
       "    .dataframe tbody tr th:only-of-type {\n",
       "        vertical-align: middle;\n",
       "    }\n",
       "\n",
       "    .dataframe tbody tr th {\n",
       "        vertical-align: top;\n",
       "    }\n",
       "\n",
       "    .dataframe thead th {\n",
       "        text-align: right;\n",
       "    }\n",
       "</style>\n",
       "<table border=\"1\" class=\"dataframe\">\n",
       "  <thead>\n",
       "    <tr style=\"text-align: right;\">\n",
       "      <th></th>\n",
       "      <th>sentence</th>\n",
       "      <th>label</th>\n",
       "      <th>predictions</th>\n",
       "      <th>correct</th>\n",
       "    </tr>\n",
       "  </thead>\n",
       "  <tbody>\n",
       "    <tr>\n",
       "      <th>0</th>\n",
       "      <td>Talking about Tesla. loss on Tesla puts as well</td>\n",
       "      <td>2</td>\n",
       "      <td>2</td>\n",
       "      <td>True</td>\n",
       "    </tr>\n",
       "    <tr>\n",
       "      <th>1</th>\n",
       "      <td>Talking about Apple. grabbed Apple 112 calls ....</td>\n",
       "      <td>1</td>\n",
       "      <td>1</td>\n",
       "      <td>True</td>\n",
       "    </tr>\n",
       "    <tr>\n",
       "      <th>2</th>\n",
       "      <td>Talking about Apple. I expect $aapl to make a ...</td>\n",
       "      <td>1</td>\n",
       "      <td>1</td>\n",
       "      <td>True</td>\n",
       "    </tr>\n",
       "    <tr>\n",
       "      <th>3</th>\n",
       "      <td>Talking about Amazon. $Amazon is coming @howar...</td>\n",
       "      <td>2</td>\n",
       "      <td>2</td>\n",
       "      <td>True</td>\n",
       "    </tr>\n",
       "    <tr>\n",
       "      <th>4</th>\n",
       "      <td>Talking about Apple. Apple through 9ema resist...</td>\n",
       "      <td>0</td>\n",
       "      <td>0</td>\n",
       "      <td>True</td>\n",
       "    </tr>\n",
       "    <tr>\n",
       "      <th>...</th>\n",
       "      <td>...</td>\n",
       "      <td>...</td>\n",
       "      <td>...</td>\n",
       "      <td>...</td>\n",
       "    </tr>\n",
       "    <tr>\n",
       "      <th>1135</th>\n",
       "      <td>Talking about Apple. Apple 111.06 Over 111. Am...</td>\n",
       "      <td>1</td>\n",
       "      <td>1</td>\n",
       "      <td>True</td>\n",
       "    </tr>\n",
       "    <tr>\n",
       "      <th>1136</th>\n",
       "      <td>Talking about Apple. Report: Apple set to ship...</td>\n",
       "      <td>0</td>\n",
       "      <td>0</td>\n",
       "      <td>True</td>\n",
       "    </tr>\n",
       "    <tr>\n",
       "      <th>1137</th>\n",
       "      <td>Talking about Tesla. Tesla downgraded to $170 ...</td>\n",
       "      <td>2</td>\n",
       "      <td>2</td>\n",
       "      <td>True</td>\n",
       "    </tr>\n",
       "    <tr>\n",
       "      <th>1138</th>\n",
       "      <td>Talking about Apple. out remainder Apple 112 c...</td>\n",
       "      <td>1</td>\n",
       "      <td>1</td>\n",
       "      <td>True</td>\n",
       "    </tr>\n",
       "    <tr>\n",
       "      <th>1139</th>\n",
       "      <td>Talking about Apple. \"@vrdrk: Apple where's th...</td>\n",
       "      <td>1</td>\n",
       "      <td>0</td>\n",
       "      <td>False</td>\n",
       "    </tr>\n",
       "  </tbody>\n",
       "</table>\n",
       "<p>1140 rows × 4 columns</p>\n",
       "</div>"
      ],
      "text/plain": [
       "                                               sentence  label  predictions  \\\n",
       "0       Talking about Tesla. loss on Tesla puts as well      2            2   \n",
       "1     Talking about Apple. grabbed Apple 112 calls ....      1            1   \n",
       "2     Talking about Apple. I expect $aapl to make a ...      1            1   \n",
       "3     Talking about Amazon. $Amazon is coming @howar...      2            2   \n",
       "4     Talking about Apple. Apple through 9ema resist...      0            0   \n",
       "...                                                 ...    ...          ...   \n",
       "1135  Talking about Apple. Apple 111.06 Over 111. Am...      1            1   \n",
       "1136  Talking about Apple. Report: Apple set to ship...      0            0   \n",
       "1137  Talking about Tesla. Tesla downgraded to $170 ...      2            2   \n",
       "1138  Talking about Apple. out remainder Apple 112 c...      1            1   \n",
       "1139  Talking about Apple. \"@vrdrk: Apple where's th...      1            0   \n",
       "\n",
       "      correct  \n",
       "0        True  \n",
       "1        True  \n",
       "2        True  \n",
       "3        True  \n",
       "4        True  \n",
       "...       ...  \n",
       "1135     True  \n",
       "1136     True  \n",
       "1137     True  \n",
       "1138     True  \n",
       "1139    False  \n",
       "\n",
       "[1140 rows x 4 columns]"
      ]
     },
     "execution_count": 65,
     "metadata": {},
     "output_type": "execute_result"
    }
   ],
   "source": [
    "df_ev"
   ]
  },
  {
   "cell_type": "code",
   "execution_count": 70,
   "metadata": {},
   "outputs": [],
   "source": [
    "from sklearn.metrics import confusion_matrix"
   ]
  },
  {
   "cell_type": "code",
   "execution_count": 71,
   "metadata": {},
   "outputs": [
    {
     "name": "stdout",
     "output_type": "stream",
     "text": [
      "    TP   FP   FN   TN\n",
      "0  267  119  113  641\n",
      "1  279  111  101  649\n",
      "2  271   93  109  667\n"
     ]
    }
   ],
   "source": [
    "results = {'TP': {}, 'FP': {}, 'FN': {}, 'TN': {}}\n",
    "\n",
    "for value in [0, 1, 2]:\n",
    "    label_values = df_ev['label'] == value\n",
    "    prediction_values = df_ev['predictions'] == value\n",
    "\n",
    "    conf_matrix = confusion_matrix(label_values, prediction_values)\n",
    "    tp = conf_matrix[1, 1]\n",
    "    fp = conf_matrix[0, 1]\n",
    "    fn = conf_matrix[1, 0]\n",
    "    tn = conf_matrix[0, 0]\n",
    "\n",
    "    results['TP'][value] = tp\n",
    "    results['FP'][value] = fp\n",
    "    results['FN'][value] = fn\n",
    "    results['TN'][value] = tn\n",
    "\n",
    "# Convert results to a DataFrame\n",
    "results_df = pd.DataFrame(results)\n",
    "\n",
    "print(results_df)"
   ]
  },
  {
   "cell_type": "code",
   "execution_count": 111,
   "metadata": {},
   "outputs": [],
   "source": [
    "trainer.save_model(\"C:\\\\Users\\\\User\\\\Documents\\\\GitHub\\\\Masther_Thesis\\\\Seccond_try\")"
   ]
  },
  {
   "cell_type": "code",
   "execution_count": 74,
   "metadata": {},
   "outputs": [
    {
     "name": "stdout",
     "output_type": "stream",
     "text": [
      "                                               sentence  label  predictions\n",
      "10    Talking about Tesla. Baird Equity says slowing...      1            2\n",
      "14    Talking about Apple. Clearly Apple pass on EMA...      2            1\n",
      "15    Talking about Apple. Have to figure some analy...      1            0\n",
      "25    Talking about Apple. those 1500 contracts of t...      2            1\n",
      "27    Talking about Tesla. @mansiondave STILL WAITIN...      0            1\n",
      "...                                                 ...    ...          ...\n",
      "1119  Talking about Apple. if you did, i would take ...      2            1\n",
      "1122  Talking about Apple. New #Xiaomi phone much mo...      0            2\n",
      "1124  Talking about Amazon. $Amazon $PCLN Out of my ...      0            1\n",
      "1133  Talking about Apple. Apple relative strength a...      1            0\n",
      "1139  Talking about Apple. \"@vrdrk: Apple where's th...      1            0\n",
      "\n",
      "[323 rows x 3 columns]\n"
     ]
    }
   ],
   "source": [
    "incorrect_sentences = df_ev.loc[~df_ev['correct'], ['sentence', 'label', 'predictions']]\n",
    "\n",
    "print(incorrect_sentences['sentence'][0])"
   ]
  },
  {
   "cell_type": "code",
   "execution_count": 98,
   "metadata": {},
   "outputs": [
    {
     "data": {
      "text/plain": [
       "array([-4.596674 , -3.9067338,  9.029173 ], dtype=float32)"
      ]
     },
     "execution_count": 98,
     "metadata": {},
     "output_type": "execute_result"
    }
   ],
   "source": [
    "set.predictions[1122]"
   ]
  },
  {
   "cell_type": "code",
   "execution_count": 99,
   "metadata": {},
   "outputs": [
    {
     "data": {
      "text/plain": [
       "\"Talking about Apple. New #Xiaomi phone much more of a threat to #Samsung than to Apple. And Samsung's #Tizen experiment won't make any difference.\""
      ]
     },
     "execution_count": 99,
     "metadata": {},
     "output_type": "execute_result"
    }
   ],
   "source": [
    "incorrect_sentences['sentence'][1122]"
   ]
  }
 ],
 "metadata": {
  "kernelspec": {
   "display_name": "Python 3",
   "language": "python",
   "name": "python3"
  },
  "language_info": {
   "codemirror_mode": {
    "name": "ipython",
    "version": 3
   },
   "file_extension": ".py",
   "mimetype": "text/x-python",
   "name": "python",
   "nbconvert_exporter": "python",
   "pygments_lexer": "ipython3",
   "version": "3.8.16"
  },
  "orig_nbformat": 4
 },
 "nbformat": 4,
 "nbformat_minor": 2
}
